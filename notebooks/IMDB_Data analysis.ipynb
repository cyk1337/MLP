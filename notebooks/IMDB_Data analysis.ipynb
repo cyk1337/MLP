{
 "cells": [
  {
   "cell_type": "markdown",
   "metadata": {},
   "source": [
    "Data Preparation\n",
    "---\n",
    "\n",
    "- Separation of data into training and test sets.\n",
    "- Loading and cleaning the data to remove punctuation and numbers.\n",
    "- Defining a vocabulary of preferred words."
   ]
  },
  {
   "cell_type": "code",
   "execution_count": 1,
   "metadata": {
    "collapsed": true
   },
   "outputs": [],
   "source": [
    "import __init__\n",
    "from config.setting import *"
   ]
  },
  {
   "cell_type": "markdown",
   "metadata": {},
   "source": [
    "### 1. Separation of data into training and test sets.\n",
    "- Training data\n",
    "   - pos: 12,500\n",
    "   - neg: 12,500\n",
    "- Test data\n",
    "   - pos: 12,500\n",
    "   - neg: 12,500"
   ]
  },
  {
   "cell_type": "markdown",
   "metadata": {
    "collapsed": true
   },
   "source": [
    "### 2. Loading and cleaning the data to remove punctuation and numbers.\n",
    "1. Split tokens on white space.\n",
    "2. Remove all punctuation from words.\n",
    "3. Lowercase.\n",
    "4. Remove Html tag (data crawling fault..)\n",
    "\n",
    "> TBC\n",
    "5. Remove  stop words.\n",
    "6. Remove all words that have a length <= 1 character."
   ]
  },
  {
   "cell_type": "code",
   "execution_count": 2,
   "metadata": {},
   "outputs": [
    {
     "name": "stdout",
     "output_type": "stream",
     "text": [
      "['always', 'feel', 'strange', 'guilty', 'saying', 'Im', 'fairly', 'welleducated', 'nonteenager', 'actually', 'sort', 'like', 'Olsen', 'twins', 'respect', 'movies', 'make', 'even', 'though', 'Ive', 'never', 'really', 'target', 'audience', 'When', 'Rome', 'traditional', 'MaryKate', 'Ashley', 'movie', 'complete', 'foreign', 'travel', 'accents', 'motorbikes', 'adult', 'romance', 'storyline', 'fashion', 'orientation', 'even', 'gag', 'reel', 'credits', 'enjoyed', 'When', 'Rome', 'Olsen', 'twin', 'movies', 'never', 'pretend', 'anything', 'theyre', 'time', 'premiere', 'video', 'never', 'claim', 'next', 'Citizen', 'Kane', 'even', 'An', 'Affair', 'Remember', 'My', 'point', 'people', 'watch', 'movie', 'expect', 'anything', 'another', 'Olsen', 'twin', 'movie', 'disappointedbr', 'br', 'That', 'said', 'ARE', 'fans', 'Olsen', 'twins', 'really', 'enjoy', 'For', 'us', 'whove', 'watched', 'since', 'first', 'episodes', 'Full', 'House', 'really', 'great', 'see', 'growing', 'mature', 'roles', 'This', 'movie', 'provides', 'important', 'historical', 'geographical', 'information', 'like', 'many', 'movies', 'remember', 'Downing', 'Street', 'Winning', 'London', 'visit', 'Louvre', 'Passport', 'Paris', 'well', 'providing', 'good', 'clean', 'fun', 'enjoyed', 'whole', 'familybr', 'br', 'As', 'long', 'still', 'feel', 'like', 'Im', 'soapbox', 'long', 'make', 'relevant', 'movie', 'let', 'take', 'moment', 'challenge', 'reject', 'Olsen', 'twins', 'order', 'fan', 'Olsen', 'twins', 'dont', 'preteen', 'valley', 'girl', 'California', 'In', 'fact', 'thats', 'really', 'target', 'audience', 'If', 'MKA', 'fashion', 'line', 'clothes', 'accessories', 'would', 'run', 'Gap', 'store', 'like', 'WalMart', 'When', 'Rome', 'feature', 'high', 'fashion', 'globetrotting', 'two', 'girls', 'valley', 'Cali', 'isnt', 'really', 'ABOUT', 'inspiring', 'young', 'girls', 'initiative', 'let', 'take', 'places', 'If', 'means', 'setting', 'movie', 'glamorous', 'foreign', 'city', 'cute', 'guys', 'motorbikes', 'Thats', 'called', 'marketingyou', 'take', 'idea', 'sell', 'making', 'appealing', 'At', 'least', 'theyre', 'sending', 'good', 'message', 'even', 'means', 'seem', 'little', 'superficial', 'br', 'br', 'Basically', 'dont', 'knock', 'film', 'youve', 'seen', 'dont', 'knock', 'youve', 'tried', 'understand', 'Olsen', 'twins', 'encourage', 'young', 'girls', 'creative', 'intuitive', 'driven', 'young', 'women', 'This', 'movie', 'think', 'like', 'others', 'Kids', 'enjoy', 'Parents', 'If', 'like', 'Olsen', 'twins', 'wont', 'disappointed']\n"
     ]
    }
   ],
   "source": [
    "# example of single txt process\n",
    "from nltk.corpus import stopwords\n",
    "import string\n",
    " \n",
    "# load doc into memory\n",
    "def load_doc(filename):\n",
    "    with open(filename, 'r') as f:\n",
    "        text = f.read()\n",
    "    return text\n",
    " \n",
    "# turn a doc into clean tokens\n",
    "def clean_doc(doc):\n",
    "    # split into tokens by white space\n",
    "    tokens = doc.split()\n",
    "    # remove punctuation from each token\n",
    "    table = str.maketrans('', '', string.punctuation)\n",
    "    tokens = [w.translate(table) for w in tokens]\n",
    "    # remove remaining tokens that are not alphabetic\n",
    "    tokens = [word for word in tokens if word.isalpha()]\n",
    "    # filter out stop words\n",
    "    stop_words = set(stopwords.words('english'))\n",
    "    tokens = [w for w in tokens if not w in stop_words]\n",
    "    # filter out short tokens\n",
    "    tokens = [word for word in tokens if len(word) > 1]\n",
    "    return tokens\n",
    " \n",
    "# load the document\n",
    "filename = train_pos+'/12499_7.txt'\n",
    "text = load_doc(filename)\n",
    "tokens = clean_doc(text)\n",
    "print(tokens)"
   ]
  },
  {
   "cell_type": "markdown",
   "metadata": {},
   "source": [
    "### 3. Defining a vocabulary of preferred words."
   ]
  },
  {
   "cell_type": "code",
   "execution_count": 4,
   "metadata": {},
   "outputs": [
    {
     "name": "stdout",
     "output_type": "stream",
     "text": [
      "137159\n",
      "[('movie', 41802), ('film', 37460), ('one', 25153), ('like', 19561), ('good', 14508), ('even', 12325), ('would', 12124), ('time', 11783), ('really', 11639), ('story', 11431), ('see', 11176), ('much', 9548), ('get', 9200), ('well', 9192), ('people', 8922), ('also', 8894), ('bad', 8891), ('great', 8847), ('first', 8687), ('dont', 8304), ('made', 7984), ('movies', 7776), ('films', 7725), ('make', 7719), ('could', 7707), ('way', 7682), ('characters', 7283), ('think', 7215), ('watch', 6708), ('two', 6581), ('many', 6579), ('seen', 6525), ('character', 6511), ('never', 6402), ('little', 6379), ('acting', 6254), ('plot', 6242), ('best', 6234), ('love', 6206), ('know', 6040), ('life', 5984), ('show', 5958), ('ever', 5805), ('better', 5547), ('still', 5485), ('end', 5352), ('say', 5327), ('man', 5192), ('scene', 5169), ('scenes', 5059)]\n"
     ]
    }
   ],
   "source": [
    "from string import punctuation\n",
    "from os import listdir\n",
    "from collections import Counter\n",
    "from nltk.corpus import stopwords\n",
    "import re \n",
    "    \n",
    "def load_doc(filename):\n",
    "    with open(filename, 'r') as f:\n",
    "        text = f.read()\n",
    "    return text\n",
    "\n",
    "def cleanhtml(raw_html):\n",
    "    cleanr = re.compile('<.*?>')\n",
    "    cleantext = re.sub(cleanr, '', raw_html)\n",
    "    return cleantext\n",
    "\n",
    "# turn a doc into clean tokens\n",
    "def clean_doc(doc):\n",
    "    # clean html tag\n",
    "    doc = cleanhtml(doc)\n",
    "    # split into tokens by white space\n",
    "    tokens = doc.split()\n",
    "    # TODO: stemming?\n",
    "    \n",
    "    # remove punctuation from each token\n",
    "    table = str.maketrans('', '', punctuation)\n",
    "    tokens = [w.translate(table) for w in tokens]\n",
    "    # remove remaining tokens that are not alphabetic\n",
    "    tokens = [word.lower() for word in tokens if word.isalpha()]\n",
    "    # filter out stop words\n",
    "    stop_words = set(stopwords.words('english'))\n",
    "    tokens = [w for w in tokens if not w in stop_words]\n",
    "    # filter out short tokens\n",
    "    tokens = [word for word in tokens if len(word) > 1]\n",
    "    return tokens\n",
    "\n",
    "\n",
    "    \n",
    "# load doc and add to vocab\n",
    "def add_doc_to_vocab(filename, vocab):\n",
    "    # load doc\n",
    "    doc = load_doc(filename)\n",
    "    # clean doc\n",
    "    tokens = clean_doc(doc)\n",
    "    # update counts\n",
    "    vocab.update(tokens)\n",
    " \n",
    "\n",
    "# load all docs\n",
    "def process_docs(directory, vocab, is_trian):\n",
    "    # walk through all files in the folder\n",
    "    for filename in listdir(directory):\n",
    "        # skip any reviews in the test set\n",
    "#         if is_trian and filename.endswith('.txt'):\n",
    "#             continue\n",
    "#         if not is_trian and not filename.end('.txt'):\n",
    "#             continue\n",
    "        # create the full path of the file to open\n",
    "        path = directory + '/' + filename\n",
    "        # add doc to vocab\n",
    "        add_doc_to_vocab(path, vocab)\n",
    " \n",
    "# define vocab\n",
    "vocab = Counter()\n",
    "# add all docs to vocab\n",
    "process_docs(train_neg, vocab, True)\n",
    "process_docs(train_pos, vocab, True)\n",
    "# print the size of the vocab\n",
    "print(len(vocab))\n",
    "# print the top words in the vocab\n",
    "print(vocab.most_common(50))"
   ]
  },
  {
   "cell_type": "code",
   "execution_count": 8,
   "metadata": {},
   "outputs": [
    {
     "name": "stdout",
     "output_type": "stream",
     "text": [
      "Mean 21.804 words (std: 264.064)\n"
     ]
    },
    {
     "data": {
      "image/png": "[encoded data removed]",
      "text/plain": [
       "<matplotlib.figure.Figure at 0x10b37f828>"
      ]
     },
     "metadata": {},
     "output_type": "display_data"
    }
   ],
   "source": [
    "# plot word frequency\n",
    "import matplotlib.pyplot as plt\n",
    "%matplotlib inline\n",
    "import numpy as np\n",
    "word_freq = list(vocab.values())\n",
    "print(\"Mean %.3f words (std: %.3f)\" % (np.mean(word_freq), np.std(word_freq) ))\n",
    "_ = plt.boxplot(word_freq)"
   ]
  },
  {
   "cell_type": "code",
   "execution_count": 9,
   "metadata": {},
   "outputs": [
    {
     "name": "stdout",
     "output_type": "stream",
     "text": [
      "55904\n"
     ]
    }
   ],
   "source": [
    "# filter words whose occurance less than 2\n",
    "# keep tokens with a min occurrence\n",
    "min_occurane = 2\n",
    "tokens = [k for k,c in vocab.items() if c >= min_occurane]\n",
    "print(len(tokens)) # before 137159"
   ]
  },
  {
   "cell_type": "code",
   "execution_count": 10,
   "metadata": {
    "collapsed": true
   },
   "outputs": [],
   "source": [
    "# save list to file\n",
    "def save_list(lines, filename):\n",
    "    # convert lines to a single blob of text\n",
    "    data = '\\n'.join(lines)\n",
    "    # open file\n",
    "    file = open(filename, 'w')\n",
    "    # write text\n",
    "    file.write(data)\n",
    "    # close file\n",
    "    file.close()\n",
    "\n",
    "# save tokens to a vocabulary file\n",
    "save_list(tokens, 'vocabulary_.txt')"
   ]
  },
  {
   "cell_type": "code",
   "execution_count": 141,
   "metadata": {
    "collapsed": true
   },
   "outputs": [],
   "source": [
    "# load doc into memory\n",
    "def load_doc(filename):\n",
    "    # open the file as read only\n",
    "    file = open(filename, 'r')\n",
    "    # read all text\n",
    "    text = file.read()\n",
    "    # close the file\n",
    "    file.close()\n",
    "    return text\n",
    "\n",
    "# load the vocabulary\n",
    "vocab_filename = 'vocabulary_.txt'\n",
    "vocab = load_doc(vocab_filename)\n",
    "vocab = vocab.split()\n",
    "vocab = set(vocab)"
   ]
  },
  {
   "cell_type": "code",
   "execution_count": 14,
   "metadata": {
    "collapsed": true
   },
   "outputs": [],
   "source": [
    "# turn a doc into clean tokens\n",
    "def clean_doc(doc, vocab):\n",
    "    # clean html tag\n",
    "    doc = cleanhtml(doc)\n",
    "    # split into tokens by white space\n",
    "    tokens = doc.split()\n",
    "    # TODO: stemming?\n",
    "    \n",
    "    # remove punctuation from each token\n",
    "    table = str.maketrans('', '', punctuation)\n",
    "    tokens = [w.translate(table).lower() for w in tokens]\n",
    "    # filter out tokens not in vocab\n",
    "    tokens = [w for w in tokens if w in vocab]\n",
    "    tokens = ' '.join(tokens)\n",
    "    return tokens"
   ]
  },
  {
   "cell_type": "code",
   "execution_count": 15,
   "metadata": {
    "collapsed": true
   },
   "outputs": [],
   "source": [
    "# load all docs in a directory\n",
    "def process_docs(directory, vocab, is_train=True):\n",
    "    \"\"\"is_train: flag, do not use here\"\"\"\n",
    "    documents = list()\n",
    "    # walk through all files in the folder\n",
    "    for filename in listdir(directory):\n",
    "        # create the full path of the file to open\n",
    "        path = directory + '/' + filename\n",
    "        # load the doc\n",
    "        doc = load_doc(path)\n",
    "        # clean doc\n",
    "        tokens = clean_doc(doc, vocab)\n",
    "        # add to list\n",
    "        documents.append(tokens)\n",
    "    return documents\n",
    " \n",
    "# load all training reviews\n",
    "positive_docs = process_docs(train_pos, vocab)\n",
    "negative_docs = process_docs(train_neg, vocab)\n",
    "train_docs = negative_docs + positive_docs"
   ]
  },
  {
   "cell_type": "code",
   "execution_count": 16,
   "metadata": {},
   "outputs": [
    {
     "name": "stdout",
     "output_type": "stream",
     "text": [
      "max len: 9213, min len: 27\n",
      "Mean 842.108 words (std: 650.490)\n"
     ]
    },
    {
     "data": {
      "image/png": "[encoded data removed]",
      "text/plain": [
       "<matplotlib.figure.Figure at 0x10be61940>"
      ]
     },
     "metadata": {},
     "output_type": "display_data"
    }
   ],
   "source": [
    "# plot word frequency\n",
    "import matplotlib.pyplot as plt\n",
    "%matplotlib inline\n",
    "import numpy as np\n",
    "review_len = [len(text) for text in train_docs]\n",
    "print(\"max len: %.0f, min len: %.0f\" % (max(review_len), min(review_len)))\n",
    "print(\"Mean %.3f words (std: %.3f)\" % (np.mean(review_len), np.std(review_len) ))\n",
    "_ = plt.boxplot(review_len)"
   ]
  },
  {
   "cell_type": "code",
   "execution_count": 17,
   "metadata": {
    "collapsed": true
   },
   "outputs": [],
   "source": [
    "from keras.preprocessing.text import Tokenizer\n",
    "# create the tokenizer\n",
    "tokenizer = Tokenizer()\n",
    "# fit the tokenizer on the documents\n",
    "tokenizer.fit_on_texts(train_docs)\n",
    "# sequence encode\n",
    "encoded_docs = tokenizer.texts_to_sequences(train_docs)"
   ]
  },
  {
   "cell_type": "code",
   "execution_count": 18,
   "metadata": {
    "collapsed": true
   },
   "outputs": [],
   "source": [
    "# length of encoded docs\n",
    "# need to ensure that all documents have the same length.\n",
    "# ===========\n",
    "_ = set([len(i) for i in encoded_docs])\n",
    "# ==========="
   ]
  },
  {
   "cell_type": "code",
   "execution_count": 19,
   "metadata": {
    "collapsed": true
   },
   "outputs": [],
   "source": [
    "from keras.preprocessing.sequence import pad_sequences\n",
    "# pad sequences\n",
    "max_length = max([len(s.split()) for s in train_docs])\n",
    "Xtrain = pad_sequences(encoded_docs, maxlen=max_length, padding='post')"
   ]
  },
  {
   "cell_type": "code",
   "execution_count": 20,
   "metadata": {},
   "outputs": [
    {
     "name": "stdout",
     "output_type": "stream",
     "text": [
      "1403\n"
     ]
    }
   ],
   "source": [
    "# length of sequence\n",
    "# ===========\n",
    "dim_ = list(set([len(i) for i in Xtrain]))[0]\n",
    "print(dim_)"
   ]
  },
  {
   "cell_type": "code",
   "execution_count": null,
   "metadata": {
    "collapsed": true
   },
   "outputs": [],
   "source": []
  }
 ],
 "metadata": {
  "kernelspec": {
   "display_name": "Python 3",
   "language": "python",
   "name": "python3"
  },
  "language_info": {
   "codemirror_mode": {
    "name": "ipython",
    "version": 3
   },
   "file_extension": ".py",
   "mimetype": "text/x-python",
   "name": "python",
   "nbconvert_exporter": "python",
   "pygments_lexer": "ipython3",
   "version": "3.6.3"
  },
  "varInspector": {
   "cols": {
    "lenName": 16,
    "lenType": 16,
    "lenVar": 40
   },
   "kernels_config": {
    "python": {
     "delete_cmd_postfix": "",
     "delete_cmd_prefix": "del ",
     "library": "var_list.py",
     "varRefreshCmd": "print(var_dic_list())"
    },
    "r": {
     "delete_cmd_postfix": ") ",
     "delete_cmd_prefix": "rm(",
     "library": "var_list.r",
     "varRefreshCmd": "cat(var_dic_list()) "
    }
   },
   "oldHeight": 277,
   "position": {
    "height": "40px",
    "left": "825px",
    "right": "20px",
    "top": "138px",
    "width": "350px"
   },
   "types_to_exclude": [
    "module",
    "function",
    "builtin_function_or_method",
    "instance",
    "_Feature"
   ],
   "varInspector_section_display": "none",
   "window_display": true
  }
 },
 "nbformat": 4,
 "nbformat_minor": 2
}
